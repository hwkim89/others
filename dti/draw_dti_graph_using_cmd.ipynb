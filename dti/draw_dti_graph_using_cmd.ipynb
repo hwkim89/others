{
 "cells": [
  {
   "cell_type": "code",
   "execution_count": 6,
   "metadata": {},
   "outputs": [
    {
     "name": "stdout",
     "output_type": "stream",
     "text": [
      "# of targets: 6, # of drugs: 3\n",
      "DTI sample: [('Q72874', 3), ('O75469', 4)]\n",
      "Figure(800x800)\n"
     ]
    }
   ],
   "source": [
    "!python draw_dti_graph.py --dti 'data/sample_dtis.csv' --drug 'DB00503' --pcov 'data/prev_cov.csv'"
   ]
  },
  {
   "cell_type": "markdown",
   "metadata": {},
   "source": [
    "![image](dti_graph_for_DB00503.png)"
   ]
  },
  {
   "cell_type": "code",
   "execution_count": 7,
   "metadata": {},
   "outputs": [
    {
     "name": "stdout",
     "output_type": "stream",
     "text": [
      "# of targets: 6, # of drugs: 3\n",
      "DTI sample: [('Q72874', 3), ('O75469', 4)]\n",
      "Figure(800x800)\n"
     ]
    }
   ],
   "source": [
    "!python draw_dti_graph.py --dti 'data/sample_dtis.csv' --drug 'DB00959' --pcov 'data/prev_cov.csv'"
   ]
  },
  {
   "cell_type": "markdown",
   "metadata": {},
   "source": [
    "![image](dti_graph_for_DB00959.png)"
   ]
  },
  {
   "cell_type": "code",
   "execution_count": 8,
   "metadata": {},
   "outputs": [
    {
     "name": "stdout",
     "output_type": "stream",
     "text": [
      "# of targets: 6, # of drugs: 3\n",
      "DTI sample: [('Q72874', 3), ('O75469', 4)]\n",
      "Figure(800x800)\n"
     ]
    }
   ],
   "source": [
    "!python draw_dti_graph.py --dti 'data/sample_dtis.csv' --drug 'DB00112' --pcov 'data/prev_cov.csv'"
   ]
  },
  {
   "cell_type": "markdown",
   "metadata": {},
   "source": [
    "![image](dti_graph_for_DB00112.png)"
   ]
  }
 ],
 "metadata": {
  "kernelspec": {
   "display_name": "Python 3",
   "language": "python",
   "name": "python3"
  },
  "language_info": {
   "codemirror_mode": {
    "name": "ipython",
    "version": 3
   },
   "file_extension": ".py",
   "mimetype": "text/x-python",
   "name": "python",
   "nbconvert_exporter": "python",
   "pygments_lexer": "ipython3",
   "version": "3.6.12"
  }
 },
 "nbformat": 4,
 "nbformat_minor": 4
}
