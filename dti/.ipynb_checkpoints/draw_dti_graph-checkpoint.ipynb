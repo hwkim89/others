{
 "cells": [
  {
   "cell_type": "code",
   "execution_count": 1,
   "metadata": {},
   "outputs": [
    {
     "name": "stdout",
     "output_type": "stream",
     "text": [
      "Namespace(ddi='data/ddis.pkl', dti='data/sample_dtis.csv', pcov='data/prev_cov.csv', pdti='data/dtis.pkl')\n",
      "# of targets: 6, # of drugs: 3\n",
      "dtis sample: [('Q72874', 3), ('O75469', 4)]\n",
      "ddis sample: ('DB00503', 'DB09065', 0.6289)\n",
      "prev_dtis sample: ('Q9NPD5', 'DB09065', 1)\n",
      "Figure(800x800)\n"
     ]
    }
   ],
   "source": [
    "!python draw_dti_graph.py --dti 'data/sample_dtis.csv' --pcov 'data/prev_cov.csv'"
   ]
  },
  {
   "cell_type": "markdown",
   "metadata": {},
   "source": [
    "![image](dti_graph.png)"
   ]
  }
 ],
 "metadata": {
  "kernelspec": {
   "display_name": "Python 3",
   "language": "python",
   "name": "python3"
  },
  "language_info": {
   "codemirror_mode": {
    "name": "ipython",
    "version": 3
   },
   "file_extension": ".py",
   "mimetype": "text/x-python",
   "name": "python",
   "nbconvert_exporter": "python",
   "pygments_lexer": "ipython3",
   "version": "3.6.12"
  }
 },
 "nbformat": 4,
 "nbformat_minor": 4
}
